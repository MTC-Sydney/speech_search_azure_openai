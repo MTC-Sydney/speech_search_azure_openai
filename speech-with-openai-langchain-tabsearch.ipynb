{
 "cells": [
  {
   "cell_type": "code",
   "execution_count": 33,
   "metadata": {},
   "outputs": [],
   "source": [
    "#%pip install azure-cognitiveservices-speech\n",
    "\n"
   ]
  },
  {
   "cell_type": "code",
   "execution_count": 34,
   "metadata": {},
   "outputs": [],
   "source": [
    "import os\n",
    "import pandas as pd\n",
    "from langchain.llms import AzureOpenAI\n",
    "from langchain.chat_models import AzureChatOpenAI\n",
    "from langchain.agents import create_pandas_dataframe_agent\n",
    "from langchain.agents import create_csv_agent\n",
    "\n",
    "from IPython.display import Markdown, HTML, display  \n",
    "\n",
    "from dotenv import load_dotenv\n",
    "load_dotenv(\"credentials2.env\")\n",
    "\n",
    "def printmd(string):\n",
    "    display(Markdown(string))"
   ]
  },
  {
   "cell_type": "code",
   "execution_count": 35,
   "metadata": {},
   "outputs": [],
   "source": [
    "import os\n",
    "import azure.cognitiveservices.speech as speechsdk\n",
    "import openai"
   ]
  },
  {
   "cell_type": "code",
   "execution_count": 36,
   "metadata": {},
   "outputs": [
    {
     "name": "stdout",
     "output_type": "stream",
     "text": [
      "Rows and Columns: (30, 9)\n"
     ]
    },
    {
     "data": {
      "text/html": [
       "<div>\n",
       "<style scoped>\n",
       "    .dataframe tbody tr th:only-of-type {\n",
       "        vertical-align: middle;\n",
       "    }\n",
       "\n",
       "    .dataframe tbody tr th {\n",
       "        vertical-align: top;\n",
       "    }\n",
       "\n",
       "    .dataframe thead th {\n",
       "        text-align: right;\n",
       "    }\n",
       "</style>\n",
       "<table border=\"1\" class=\"dataframe\">\n",
       "  <thead>\n",
       "    <tr style=\"text-align: right;\">\n",
       "      <th></th>\n",
       "      <th>Booking ID</th>\n",
       "      <th>Guest Name</th>\n",
       "      <th>Location</th>\n",
       "      <th>Room Type</th>\n",
       "      <th>Room Number</th>\n",
       "      <th>Check-in Date</th>\n",
       "      <th>Check-out Date</th>\n",
       "      <th>Total Cost</th>\n",
       "      <th>Payment Status</th>\n",
       "    </tr>\n",
       "  </thead>\n",
       "  <tbody>\n",
       "    <tr>\n",
       "      <th>0</th>\n",
       "      <td>1</td>\n",
       "      <td>John Smith</td>\n",
       "      <td>New York City</td>\n",
       "      <td>Deluxe</td>\n",
       "      <td>101</td>\n",
       "      <td>1/01/2022</td>\n",
       "      <td>1/05/2022</td>\n",
       "      <td>$1,000</td>\n",
       "      <td>Paid</td>\n",
       "    </tr>\n",
       "    <tr>\n",
       "      <th>1</th>\n",
       "      <td>2</td>\n",
       "      <td>Jane Doe</td>\n",
       "      <td>Los Angeles</td>\n",
       "      <td>Standard</td>\n",
       "      <td>102</td>\n",
       "      <td>1/02/2022</td>\n",
       "      <td>1/06/2022</td>\n",
       "      <td>$800</td>\n",
       "      <td>Paid</td>\n",
       "    </tr>\n",
       "    <tr>\n",
       "      <th>2</th>\n",
       "      <td>3</td>\n",
       "      <td>Michael Johnson</td>\n",
       "      <td>Chicago</td>\n",
       "      <td>Suite</td>\n",
       "      <td>103</td>\n",
       "      <td>1/03/2022</td>\n",
       "      <td>1/07/2022</td>\n",
       "      <td>$2,000</td>\n",
       "      <td>Paid</td>\n",
       "    </tr>\n",
       "    <tr>\n",
       "      <th>3</th>\n",
       "      <td>4</td>\n",
       "      <td>Emily Davis</td>\n",
       "      <td>Houston</td>\n",
       "      <td>Deluxe</td>\n",
       "      <td>104</td>\n",
       "      <td>1/04/2022</td>\n",
       "      <td>1/08/2022</td>\n",
       "      <td>$1,000</td>\n",
       "      <td>Unpaid</td>\n",
       "    </tr>\n",
       "    <tr>\n",
       "      <th>4</th>\n",
       "      <td>5</td>\n",
       "      <td>Sarah Brown</td>\n",
       "      <td>Phoenix</td>\n",
       "      <td>Standard</td>\n",
       "      <td>105</td>\n",
       "      <td>1/05/2022</td>\n",
       "      <td>1/09/2022</td>\n",
       "      <td>$800</td>\n",
       "      <td>Paid</td>\n",
       "    </tr>\n",
       "  </tbody>\n",
       "</table>\n",
       "</div>"
      ],
      "text/plain": [
       "   Booking ID       Guest Name       Location Room Type  Room Number  \\\n",
       "0           1       John Smith  New York City    Deluxe          101   \n",
       "1           2         Jane Doe    Los Angeles  Standard          102   \n",
       "2           3  Michael Johnson        Chicago     Suite          103   \n",
       "3           4      Emily Davis        Houston    Deluxe          104   \n",
       "4           5      Sarah Brown        Phoenix  Standard          105   \n",
       "\n",
       "  Check-in Date Check-out Date Total Cost Payment Status  \n",
       "0     1/01/2022      1/05/2022     $1,000           Paid  \n",
       "1     1/02/2022      1/06/2022       $800           Paid  \n",
       "2     1/03/2022      1/07/2022     $2,000           Paid  \n",
       "3     1/04/2022      1/08/2022     $1,000         Unpaid  \n",
       "4     1/05/2022      1/09/2022       $800           Paid  "
      ]
     },
     "execution_count": 36,
     "metadata": {},
     "output_type": "execute_result"
    }
   ],
   "source": [
    "file_url = \"./data/MadeUpBookings.csv\"\n",
    "df = pd.read_csv(file_url).fillna(value = 0)\n",
    "print(\"Rows and Columns:\",df.shape)\n",
    "df.head()"
   ]
  },
  {
   "cell_type": "code",
   "execution_count": null,
   "metadata": {},
   "outputs": [],
   "source": []
  },
  {
   "cell_type": "code",
   "execution_count": 37,
   "metadata": {},
   "outputs": [],
   "source": [
    "# Set the ENV variables that Langchain needs to connect to Azure OpenAI\n",
    "os.environ[\"OPENAI_API_BASE\"] = os.environ[\"AZURE_OPENAI_ENDPOINT\"]\n",
    "os.environ[\"OPENAI_API_KEY\"] = os.environ[\"AZURE_OPENAI_API_KEY\"]\n",
    "os.environ[\"OPENAI_API_VERSION\"] = os.environ[\"AZURE_OPENAI_API_VERSION\"]\n",
    "os.environ[\"OPENAI_API_TYPE\"] = \"azure\""
   ]
  },
  {
   "cell_type": "code",
   "execution_count": 38,
   "metadata": {},
   "outputs": [],
   "source": [
    "openai.api_type = \"azure\"\n",
    "openai.api_base = \"https://openaisvcdataaidemos.openai.azure.com/\"\n",
    "openai.api_version = \"2022-12-01\"\n",
    "openai.api_key = os.getenv(\"OPENAI_API_KEY\")"
   ]
  },
  {
   "cell_type": "code",
   "execution_count": 39,
   "metadata": {},
   "outputs": [],
   "source": [
    "SPEECH_KEY = os.getenv(\"AZURE_SPEECH_KEY\")\n",
    "SPEECH_REGION = os.getenv(\"AZURE_SPEECH_REGION\")"
   ]
  },
  {
   "cell_type": "code",
   "execution_count": 40,
   "metadata": {},
   "outputs": [],
   "source": [
    "speech_config = speechsdk.SpeechConfig(subscription=SPEECH_KEY, region=SPEECH_REGION)\n"
   ]
  },
  {
   "cell_type": "code",
   "execution_count": 41,
   "metadata": {},
   "outputs": [],
   "source": [
    "audio_output_config = speechsdk.audio.AudioOutputConfig(use_default_speaker=True)\n",
    "audio_config = speechsdk.audio.AudioConfig(use_default_microphone=True)"
   ]
  },
  {
   "cell_type": "code",
   "execution_count": 42,
   "metadata": {},
   "outputs": [],
   "source": [
    "# Should be the locale for the speaker's language.\n",
    "speech_config.speech_recognition_language=\"en-US\"\n",
    "speech_recognizer = speechsdk.SpeechRecognizer(speech_config=speech_config, audio_config=audio_config)\n",
    "\n",
    "# The language of the voice that responds on behalf of Azure OpenAI.\n",
    "speech_config.speech_synthesis_voice_name='en-US-JennyMultilingualNeural'\n",
    "speech_synthesizer = speechsdk.SpeechSynthesizer(speech_config=speech_config, audio_config=audio_output_config)\n"
   ]
  },
  {
   "cell_type": "code",
   "execution_count": 43,
   "metadata": {},
   "outputs": [
    {
     "name": "stdout",
     "output_type": "stream",
     "text": [
      "When is Emily Davis checking out? What is her total cost and what is her payment status?\n"
     ]
    }
   ],
   "source": [
    "# when is Emily Davis checking out, what is her total cost and what is her payment status?\n",
    "speech_recognition_result = speech_recognizer.recognize_once_async().get()\n",
    "print(speech_recognition_result.text)"
   ]
  },
  {
   "cell_type": "code",
   "execution_count": 44,
   "metadata": {},
   "outputs": [],
   "source": [
    "CSV_PROMPT_PREFIX = \"\"\"\n",
    "First set the pandas display options to show all the columns, get the column names, then answer the question.\n",
    "\"\"\"\n",
    "\n",
    "CSV_PROMPT_SUFFIX = \"\"\"\n",
    "- **ALWAYS** before giving the Final Answer, try another method. Then reflect on the answers of the two methods you did and ask yourself if it answers correctly the original question. If you are not sure, try another method.\n",
    "- If the methods tried do not give the same result, reflect and try again until you have two methods that have the same result. \n",
    "- If you still cannot arrive to a consistent result, say that you are not sure of the answer.\n",
    "- If you are sure of the correct answer, create a beautiful and thorough response using Markdown.\n",
    "- **DO NOT MAKE UP AN ANSWER OR USE PRIOR KNOWLEDGE, ONLY USE THE RESULTS OF THE CALCULATIONS YOU HAVE DONE**. \n",
    "- **ALWAYS**, as part of your \"Final Answer\", explain how you got to the answer on a section that starts with: \"\\n\\nExplanation:\\n\". In the explanation, mention the column names that you used to get to the final answer. \n",
    "\"\"\""
   ]
  },
  {
   "cell_type": "code",
   "execution_count": 45,
   "metadata": {},
   "outputs": [],
   "source": [
    "QUESTION = speech_recognition_result.text"
   ]
  },
  {
   "cell_type": "code",
   "execution_count": 46,
   "metadata": {},
   "outputs": [],
   "source": [
    "llm = AzureChatOpenAI(deployment_name=\"GPT4\", temperature=0, max_tokens=500)"
   ]
  },
  {
   "cell_type": "code",
   "execution_count": 47,
   "metadata": {},
   "outputs": [],
   "source": [
    "agent_executor = create_pandas_dataframe_agent(llm=llm,df=df,verbose=True)"
   ]
  },
  {
   "cell_type": "code",
   "execution_count": 48,
   "metadata": {},
   "outputs": [
    {
     "data": {
      "text/plain": [
       "['python_repl_ast']"
      ]
     },
     "execution_count": 48,
     "metadata": {},
     "output_type": "execute_result"
    }
   ],
   "source": [
    "agent_executor.agent.allowed_tools"
   ]
  },
  {
   "cell_type": "code",
   "execution_count": 49,
   "metadata": {},
   "outputs": [
    {
     "data": {
      "text/markdown": [
       "\n",
       "You are working with a pandas dataframe in Python. The name of the dataframe is `df`.\n",
       "You should use the tools below to answer the question posed of you:\n",
       "\n",
       "python_repl_ast: A Python shell. Use this to execute python commands. Input should be a valid python command. When using this tool, sometimes output is abbreviated - make sure it does not look abbreviated before using it in your answer.\n",
       "\n",
       "Use the following format:\n",
       "\n",
       "Question: the input question you must answer\n",
       "Thought: you should always think about what to do\n",
       "Action: the action to take, should be one of [python_repl_ast]\n",
       "Action Input: the input to the action\n",
       "Observation: the result of the action\n",
       "... (this Thought/Action/Action Input/Observation can repeat N times)\n",
       "Thought: I now know the final answer\n",
       "Final Answer: the final answer to the original input question\n",
       "\n",
       "\n",
       "This is the result of `print(df.head())`:\n",
       "{df_head}\n",
       "\n",
       "Begin!\n",
       "Question: {input}\n",
       "{agent_scratchpad}"
      ],
      "text/plain": [
       "<IPython.core.display.Markdown object>"
      ]
     },
     "metadata": {},
     "output_type": "display_data"
    }
   ],
   "source": [
    "printmd(agent_executor.agent.llm_chain.prompt.template)"
   ]
  },
  {
   "cell_type": "code",
   "execution_count": 50,
   "metadata": {},
   "outputs": [
    {
     "name": "stdout",
     "output_type": "stream",
     "text": [
      "\n",
      "\n",
      "\u001b[1m> Entering new AgentExecutor chain...\u001b[0m\n",
      "\u001b[32;1m\u001b[1;3mThought: I need to set the pandas display options to show all the columns first.\n",
      "Action: python_repl_ast\n",
      "Action Input: import pandas as pd; pd.set_option('display.max_columns', None)\u001b[0m\n",
      "Observation: \u001b[36;1m\u001b[1;3m\u001b[0m\n",
      "Thought:\u001b[32;1m\u001b[1;3mNow that I have set the display options, I need to get the column names of the dataframe.\n",
      "Action: python_repl_ast\n",
      "Action Input: list(df.columns)\u001b[0m\n",
      "Observation: \u001b[36;1m\u001b[1;3m['Booking ID', 'Guest Name', 'Location', 'Room Type', 'Room Number', 'Check-in Date', 'Check-out Date', 'Total Cost', 'Payment Status']\u001b[0m\n",
      "Thought:\n",
      "\n",
      "\u001b[1m> Entering new AgentExecutor chain...\u001b[0m\n",
      "\u001b[32;1m\u001b[1;3mThought: I need to set the pandas display options to show all the columns first.\n",
      "Action: python_repl_ast\n",
      "Action Input: import pandas as pd; pd.set_option('display.max_columns', None)\u001b[0m\n",
      "Observation: \u001b[36;1m\u001b[1;3m\u001b[0m\n",
      "Thought:\u001b[32;1m\u001b[1;3mNow that I have set the display options, I need to get the column names of the dataframe.\n",
      "Action: python_repl_ast\n",
      "Action Input: list(df.columns)\u001b[0m\n",
      "Observation: \u001b[36;1m\u001b[1;3m['Booking ID', 'Guest Name', 'Location', 'Room Type', 'Room Number', 'Check-in Date', 'Check-out Date', 'Total Cost', 'Payment Status']\u001b[0m\n",
      "Thought:\n",
      "\n",
      "\u001b[1m> Entering new AgentExecutor chain...\u001b[0m\n",
      "\u001b[32;1m\u001b[1;3mThought: I need to set the pandas display options to show all the columns first.\n",
      "Action: python_repl_ast\n",
      "Action Input: import pandas as pd; pd.set_option('display.max_columns', None)\u001b[0m\n",
      "Observation: \u001b[36;1m\u001b[1;3m\u001b[0m\n",
      "Thought:\u001b[32;1m\u001b[1;3mNow that I have set the display options, I need to get the column names of the dataframe.\n",
      "Action: python_repl_ast\n",
      "Action Input: list(df.columns)\u001b[0m\n",
      "Observation: \u001b[36;1m\u001b[1;3m['Booking ID', 'Guest Name', 'Location', 'Room Type', 'Room Number', 'Check-in Date', 'Check-out Date', 'Total Cost', 'Payment Status']\u001b[0m\n",
      "Thought:\n",
      "\n",
      "\u001b[1m> Entering new AgentExecutor chain...\u001b[0m\n",
      "\u001b[32;1m\u001b[1;3mThought: I need to set the pandas display options to show all the columns, get the column names, and then find the information about Emily Davis.\n",
      "Action: python_repl_ast\n",
      "Action Input: import pandas as pd\n",
      "\u001b[0m\n",
      "Observation: \u001b[36;1m\u001b[1;3m\u001b[0m\n",
      "Thought:\u001b[32;1m\u001b[1;3mNow that I have imported pandas, I can set the display options and get the column names.\n",
      "Action: python_repl_ast\n",
      "Action Input: pd.set_option(\"display.max_columns\", None)\n",
      "pd.DataFrame(df.columns)\n",
      "\u001b[0m\n",
      "Observation: \u001b[36;1m\u001b[1;3m                0\n",
      "0      Booking ID\n",
      "1      Guest Name\n",
      "2        Location\n",
      "3       Room Type\n",
      "4     Room Number\n",
      "5   Check-in Date\n",
      "6  Check-out Date\n",
      "7      Total Cost\n",
      "8  Payment Status\u001b[0m\n",
      "Thought:\u001b[32;1m\u001b[1;3mNow that I have the column names, I can filter the dataframe to find the information about Emily Davis.\n",
      "Action: python_repl_ast\n",
      "Action Input: df[df[\"Guest Name\"] == \"Emily Davis\"]\n",
      "\u001b[0m\n",
      "Observation: \u001b[36;1m\u001b[1;3m   Booking ID   Guest Name Location Room Type  Room Number Check-in Date  \\\n",
      "3           4  Emily Davis  Houston    Deluxe          104     1/04/2022   \n",
      "\n",
      "  Check-out Date Total Cost Payment Status  \n",
      "3      1/08/2022     $1,000         Unpaid  \u001b[0m\n",
      "Thought:\u001b[32;1m\u001b[1;3mI now know the final answer.\n",
      "Final Answer: Emily Davis is checking out on 1/08/2022. Her total cost is $1,000, and her payment status is Unpaid.\n",
      "\n",
      "Explanation:\n",
      "I first set the pandas display options to show all the columns and got the column names. Then, I filtered the dataframe using the \"Guest Name\" column to find the information about Emily Davis. I found her \"Check-out Date\", \"Total Cost\", and \"Payment Status\" from the filtered dataframe.\u001b[0m\n",
      "\n",
      "\u001b[1m> Finished chain.\u001b[0m\n",
      "Emily Davis is checking out on 1/08/2022. Her total cost is $1,000, and her payment status is Unpaid.\n",
      "\n",
      "Explanation:\n",
      "I first set the pandas display options to show all the columns and got the column names. Then, I filtered the dataframe using the \"Guest Name\" column to find the information about Emily Davis. I found her \"Check-out Date\", \"Total Cost\", and \"Payment Status\" from the filtered dataframe.\n"
     ]
    }
   ],
   "source": [
    "# We are doing a for loop to retry N times. This is because: \n",
    "# 1) GPT-4 is still in preview and the API is being very throttled and \n",
    "# 2) Because the LLM not always gives the answer on the exact format the agent needs and hence cannot be parsed\n",
    "\n",
    "for i in range(5):\n",
    "    try:\n",
    "        response = agent_executor.run(CSV_PROMPT_PREFIX + QUESTION + CSV_PROMPT_SUFFIX) \n",
    "        break\n",
    "    except:\n",
    "        response = \"Error too many failed retries\"\n",
    "        continue\n",
    "        \n",
    "print(response)"
   ]
  },
  {
   "cell_type": "code",
   "execution_count": 51,
   "metadata": {},
   "outputs": [
    {
     "name": "stdout",
     "output_type": "stream",
     "text": [
      "Azure OpenAI response:Emily Davis is checking out on 1/08/2022. Her total cost is $1,000, and her payment status is Unpaid. Explanation: I first set the pandas display options to show all the columns and got the column names. Then, I filtered the dataframe using the \"Guest Name\" column to find the information about Emily Davis. I found her \"Check-out Date\", \"Total Cost\", and \"Payment Status\" from the filtered dataframe.\n"
     ]
    }
   ],
   "source": [
    "def remove_words_after_word(sentence, word):\n",
    "    words = sentence.split()\n",
    "    new_sentence = []\n",
    "    for w in words:\n",
    "        if w == word:\n",
    "            break\n",
    "        new_sentence.append(w)\n",
    "    return ' '.join(new_sentence)\n",
    "\n",
    "text2 = response.replace('\\n', ' ').replace(' .', '.').strip()\n",
    "new_sentence = remove_words_after_word(text2, \"Explanation\")\n",
    "print('Azure OpenAI response:' + new_sentence)"
   ]
  },
  {
   "cell_type": "code",
   "execution_count": 52,
   "metadata": {},
   "outputs": [
    {
     "name": "stdout",
     "output_type": "stream",
     "text": [
      "Speech synthesized to speaker for text [Emily Davis is checking out on 1/08/2022. Her total cost is $1,000, and her payment status is Unpaid. Explanation: I first set the pandas display options to show all the columns and got the column names. Then, I filtered the dataframe using the \"Guest Name\" column to find the information about Emily Davis. I found her \"Check-out Date\", \"Total Cost\", and \"Payment Status\" from the filtered dataframe.]\n"
     ]
    }
   ],
   "source": [
    "speech_synthesis_result = speech_synthesizer.speak_text_async(new_sentence).get()\n",
    "print(\"Speech synthesized to speaker for text [{}]\".format(new_sentence))"
   ]
  },
  {
   "cell_type": "code",
   "execution_count": null,
   "metadata": {},
   "outputs": [],
   "source": []
  }
 ],
 "metadata": {
  "kernelspec": {
   "display_name": "Python 3",
   "language": "python",
   "name": "python3"
  },
  "language_info": {
   "codemirror_mode": {
    "name": "ipython",
    "version": 3
   },
   "file_extension": ".py",
   "mimetype": "text/x-python",
   "name": "python",
   "nbconvert_exporter": "python",
   "pygments_lexer": "ipython3",
   "version": "3.10.11"
  },
  "orig_nbformat": 4
 },
 "nbformat": 4,
 "nbformat_minor": 2
}
